{
 "cells": [
  {
   "cell_type": "code",
   "execution_count": 4,
   "id": "8bd0aeb0-3754-49fa-be08-ea5ec94e0ad1",
   "metadata": {},
   "outputs": [],
   "source": [
    "import pickle"
   ]
  },
  {
   "cell_type": "code",
   "execution_count": 5,
   "id": "2c1c5805-dde6-4dde-9395-0d1dc90ee67a",
   "metadata": {},
   "outputs": [],
   "source": [
    "with open(f\"collect_human_preferences/preferences/humanoid_bc_vs_dpo_thomas_compare_w_reward.pkl\", \"rb\") as file:\n",
    "    data_1 = pickle.load(file)"
   ]
  },
  {
   "cell_type": "code",
   "execution_count": 6,
   "id": "53417531-321b-4935-a552-a685f77ff4e3",
   "metadata": {},
   "outputs": [],
   "source": [
    "with open(f\"collect_human_preferences/preferences/humanoid_bc_vs_dpo_thomas.pkl\", \"rb\") as file:\n",
    "    data_2 = pickle.load(file)"
   ]
  },
  {
   "cell_type": "code",
   "execution_count": 7,
   "id": "29031531-68ba-45d7-a534-5ccf939a828f",
   "metadata": {},
   "outputs": [],
   "source": [
    "with open(f\"collect_human_preferences/preferences/humanoid_bc_vs_dpo_thomas_same_start.pkl\", \"rb\") as file:\n",
    "    data_3 = pickle.load(file)"
   ]
  },
  {
   "cell_type": "code",
   "execution_count": 8,
   "id": "59f998a2-6274-47b4-9367-6d9d9f5ab692",
   "metadata": {},
   "outputs": [],
   "source": [
    "with open(f\"collect_human_preferences/preferences/humanoid_bc_vs_dpo_kenneth.pkl\", \"rb\") as file:\n",
    "    data_4 = pickle.load(file)"
   ]
  },
  {
   "cell_type": "code",
   "execution_count": 9,
   "id": "e1ebf3e0-69d0-4739-9bed-db146fe5d698",
   "metadata": {},
   "outputs": [],
   "source": [
    "with open(f\"collect_human_preferences/preferences/humanoid_bc_vs_dpo.pkl\", \"rb\") as file:\n",
    "    data_5 = pickle.load(file)"
   ]
  },
  {
   "cell_type": "code",
   "execution_count": 10,
   "id": "3d294be4-8676-4ef9-a37d-674f9e3ad907",
   "metadata": {},
   "outputs": [
    {
     "data": {
      "text/plain": [
       "170"
      ]
     },
     "execution_count": 10,
     "metadata": {},
     "output_type": "execute_result"
    }
   ],
   "source": [
    "len(data_1)"
   ]
  },
  {
   "cell_type": "code",
   "execution_count": 11,
   "id": "336c607b-1be8-455a-a53e-bb574e87f101",
   "metadata": {},
   "outputs": [
    {
     "data": {
      "text/plain": [
       "280"
      ]
     },
     "execution_count": 11,
     "metadata": {},
     "output_type": "execute_result"
    }
   ],
   "source": [
    "len(data_2)"
   ]
  },
  {
   "cell_type": "code",
   "execution_count": 12,
   "id": "0067bd96-5d4d-474f-957b-6ed24be1a2cd",
   "metadata": {},
   "outputs": [
    {
     "data": {
      "text/plain": [
       "50"
      ]
     },
     "execution_count": 12,
     "metadata": {},
     "output_type": "execute_result"
    }
   ],
   "source": [
    "len(data_3)"
   ]
  },
  {
   "cell_type": "code",
   "execution_count": 13,
   "id": "5edca369-b4d4-4be0-b171-b5c839263daa",
   "metadata": {},
   "outputs": [
    {
     "data": {
      "text/plain": [
       "250"
      ]
     },
     "execution_count": 13,
     "metadata": {},
     "output_type": "execute_result"
    }
   ],
   "source": [
    "len(data_4)"
   ]
  },
  {
   "cell_type": "code",
   "execution_count": 14,
   "id": "422fddd7-7d84-4cd9-a1e6-6051d0e18ef5",
   "metadata": {},
   "outputs": [
    {
     "data": {
      "text/plain": [
       "252"
      ]
     },
     "execution_count": 14,
     "metadata": {},
     "output_type": "execute_result"
    }
   ],
   "source": [
    "len(data_5)"
   ]
  },
  {
   "cell_type": "code",
   "execution_count": 15,
   "id": "8f60365d-8379-478f-92c3-28db5fb59bc1",
   "metadata": {},
   "outputs": [],
   "source": [
    "combined_data = data_1 + data_2 + data_3 + data_4 + data_5[:-2]\n"
   ]
  },
  {
   "cell_type": "code",
   "execution_count": 16,
   "id": "c0ffe09b-8885-44a8-af9a-5f5fc61c0780",
   "metadata": {},
   "outputs": [
    {
     "data": {
      "text/plain": [
       "1000"
      ]
     },
     "execution_count": 16,
     "metadata": {},
     "output_type": "execute_result"
    }
   ],
   "source": [
    "len(combined_data)"
   ]
  },
  {
   "cell_type": "code",
   "execution_count": 69,
   "id": "60e7b565-ad1a-46fb-bea6-91804a0e47d8",
   "metadata": {},
   "outputs": [],
   "source": [
    "with open('collect_human_preferences/preferences/manual_combined.pkl', 'wb') as f:\n",
    "    pickle.dump(combined_data, f)\n",
    "    \n",
    "with open(args.save_path, \"wb\") as f:\n",
    "        pickle.dump(preferences, f)"
   ]
  },
  {
   "cell_type": "code",
   "execution_count": 10,
   "id": "400bd6c5-4845-435c-a54e-df8545773bad",
   "metadata": {},
   "outputs": [
    {
     "name": "stdout",
     "output_type": "stream",
     "text": [
      "1000\n"
     ]
    }
   ],
   "source": [
    "import pickle\n",
    "\n",
    "with open(f\"collect_human_preferences/preferences/generated_1000_dpo.pkl\", \"rb\") as file:\n",
    "    generated_1 = pickle.load(file)\n",
    "print(len(generated_1))"
   ]
  },
  {
   "cell_type": "code",
   "execution_count": 11,
   "id": "64acb291",
   "metadata": {},
   "outputs": [
    {
     "name": "stdout",
     "output_type": "stream",
     "text": [
      "1000\n"
     ]
    }
   ],
   "source": [
    "with open(f\"collect_human_preferences/preferences/generated_1000_2_dpo.pkl\", \"rb\") as file:\n",
    "    generated_2 = pickle.load(file)\n",
    "print(len(generated_2))"
   ]
  },
  {
   "cell_type": "code",
   "execution_count": 12,
   "id": "0d9aea39",
   "metadata": {},
   "outputs": [
    {
     "name": "stdout",
     "output_type": "stream",
     "text": [
      "1000\n"
     ]
    }
   ],
   "source": [
    "with open(f\"collect_human_preferences/preferences/generated_1000_3_dpo.pkl\", \"rb\") as file:\n",
    "    generated_3 = pickle.load(file)\n",
    "print(len(generated_3))"
   ]
  },
  {
   "cell_type": "code",
   "execution_count": 13,
   "id": "301b97fb",
   "metadata": {},
   "outputs": [
    {
     "name": "stdout",
     "output_type": "stream",
     "text": [
      "500\n"
     ]
    }
   ],
   "source": [
    "with open(f\"collect_human_preferences/preferences/generated_first_500_dpo.pkl\", \"rb\") as file:\n",
    "    generated_4 = pickle.load(file)\n",
    "print(len(generated_4))"
   ]
  },
  {
   "cell_type": "code",
   "execution_count": 14,
   "id": "50659f67-e55b-40b9-8de5-923108ba06c0",
   "metadata": {},
   "outputs": [
    {
     "name": "stdout",
     "output_type": "stream",
     "text": [
      "1000\n"
     ]
    }
   ],
   "source": [
    "with open(f\"collect_human_preferences/preferences/generated_10000_dpo.pkl\", \"rb\") as file:\n",
    "    generated_5 = pickle.load(file)\n",
    "print(len(generated_5))"
   ]
  },
  {
   "cell_type": "code",
   "execution_count": 15,
   "id": "968fd752-0294-4a83-bc6c-7c59aac11b2c",
   "metadata": {},
   "outputs": [
    {
     "name": "stdout",
     "output_type": "stream",
     "text": [
      "4500\n"
     ]
    }
   ],
   "source": [
    "generated_combined = generated_1 + generated_2 + generated_3 + generated_4 + generated_5\n",
    "\n",
    "print(len(generated_combined))"
   ]
  },
  {
   "cell_type": "code",
   "execution_count": 16,
   "id": "e011a353-489d-427b-89bd-40cce77665c6",
   "metadata": {},
   "outputs": [],
   "source": [
    "with open('generated_combined.pkl', 'wb') as f:\n",
    "    pickle.dump(generated_combined, f)"
   ]
  },
  {
   "cell_type": "code",
   "execution_count": 77,
   "id": "69af96da-153f-4bbe-a88e-dcf92a5764e8",
   "metadata": {},
   "outputs": [],
   "source": [
    "with open(f\"collect_human_preferences/preferences/pusher_same_start.pkl\", \"rb\") as file:\n",
    "    pusher_data = pickle.load(file)"
   ]
  },
  {
   "cell_type": "code",
   "execution_count": 78,
   "id": "f0dd439d-61c8-450b-8521-7d92edf0aa76",
   "metadata": {},
   "outputs": [
    {
     "data": {
      "text/plain": [
       "350"
      ]
     },
     "execution_count": 78,
     "metadata": {},
     "output_type": "execute_result"
    }
   ],
   "source": [
    "len(pusher_data)"
   ]
  },
  {
   "cell_type": "code",
   "execution_count": 2,
   "id": "ebb8c4ee-0872-45a5-8c24-b249c6f32b12",
   "metadata": {},
   "outputs": [
    {
     "ename": "ModuleNotFoundError",
     "evalue": "No module named 'numpy._core'",
     "output_type": "error",
     "traceback": [
      "\u001b[0;31m---------------------------------------------------------------------------\u001b[0m",
      "\u001b[0;31mModuleNotFoundError\u001b[0m                       Traceback (most recent call last)",
      "\u001b[0;32m/var/folders/pr/9s_66gwx2pbdxq0ttr6721wc0000gn/T/ipykernel_77531/2993185799.py\u001b[0m in \u001b[0;36m<module>\u001b[0;34m\u001b[0m\n\u001b[1;32m      1\u001b[0m \u001b[0;32mimport\u001b[0m \u001b[0mpickle\u001b[0m\u001b[0;34m\u001b[0m\u001b[0;34m\u001b[0m\u001b[0m\n\u001b[1;32m      2\u001b[0m \u001b[0;32mwith\u001b[0m \u001b[0mopen\u001b[0m\u001b[0;34m(\u001b[0m\u001b[0;34mf\"collect_human_preferences/preferences/manual_combined.pkl\"\u001b[0m\u001b[0;34m,\u001b[0m \u001b[0;34m\"rb\"\u001b[0m\u001b[0;34m)\u001b[0m \u001b[0;32mas\u001b[0m \u001b[0mfile\u001b[0m\u001b[0;34m:\u001b[0m\u001b[0;34m\u001b[0m\u001b[0;34m\u001b[0m\u001b[0m\n\u001b[0;32m----> 3\u001b[0;31m     \u001b[0mmanual_data\u001b[0m \u001b[0;34m=\u001b[0m \u001b[0mpickle\u001b[0m\u001b[0;34m.\u001b[0m\u001b[0mload\u001b[0m\u001b[0;34m(\u001b[0m\u001b[0mfile\u001b[0m\u001b[0;34m)\u001b[0m\u001b[0;34m\u001b[0m\u001b[0;34m\u001b[0m\u001b[0m\n\u001b[0m",
      "\u001b[0;31mModuleNotFoundError\u001b[0m: No module named 'numpy._core'"
     ]
    }
   ],
   "source": [
    "import pickle\n",
    "with open(f\"collect_human_preferences/preferences/manual_combined.pkl\", \"rb\") as file:\n",
    "    manual_data = pickle.load(file)"
   ]
  },
  {
   "cell_type": "code",
   "execution_count": 3,
   "id": "1973cb70-c4a2-4deb-8aab-ed0aa463e209",
   "metadata": {},
   "outputs": [],
   "source": [
    "with open(f\"collect_human_preferences/preferences/humanoid_bc_vs_dpo.pkl\", \"rb\") as file:\n",
    "    data_5 = pickle.load(file)"
   ]
  },
  {
   "cell_type": "code",
   "execution_count": null,
   "id": "09f6497b",
   "metadata": {},
   "outputs": [],
   "source": []
  }
 ],
 "metadata": {
  "kernelspec": {
   "display_name": "Python 3 (ipykernel)",
   "language": "python",
   "name": "python3"
  },
  "language_info": {
   "codemirror_mode": {
    "name": "ipython",
    "version": 3
   },
   "file_extension": ".py",
   "mimetype": "text/x-python",
   "name": "python",
   "nbconvert_exporter": "python",
   "pygments_lexer": "ipython3",
   "version": "3.9.20"
  }
 },
 "nbformat": 4,
 "nbformat_minor": 5
}
