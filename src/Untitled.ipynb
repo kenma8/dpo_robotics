{
 "cells": [
  {
   "cell_type": "code",
   "execution_count": 2,
   "id": "8bd0aeb0-3754-49fa-be08-ea5ec94e0ad1",
   "metadata": {},
   "outputs": [],
   "source": [
    "import pickle"
   ]
  },
  {
   "cell_type": "code",
   "execution_count": 12,
   "id": "2c1c5805-dde6-4dde-9395-0d1dc90ee67a",
   "metadata": {},
   "outputs": [],
   "source": [
    "with open(f\"collect_human_preferences/preferences/humanoid_bc_vs_dpo_thomas.pkl\", \"rb\") as file:\n",
    "    data = pickle.load(file)"
   ]
  },
  {
   "cell_type": "code",
   "execution_count": 14,
   "id": "3d294be4-8676-4ef9-a37d-674f9e3ad907",
   "metadata": {},
   "outputs": [
    {
     "data": {
      "text/plain": [
       "40"
      ]
     },
     "execution_count": 14,
     "metadata": {},
     "output_type": "execute_result"
    }
   ],
   "source": [
    "len(data)"
   ]
  },
  {
   "cell_type": "code",
   "execution_count": null,
   "id": "456bbcd0-245f-436b-97f1-189b07720e0f",
   "metadata": {},
   "outputs": [],
   "source": []
  }
 ],
 "metadata": {
  "kernelspec": {
   "display_name": "Python 3 (ipykernel)",
   "language": "python",
   "name": "python3"
  },
  "language_info": {
   "codemirror_mode": {
    "name": "ipython",
    "version": 3
   },
   "file_extension": ".py",
   "mimetype": "text/x-python",
   "name": "python",
   "nbconvert_exporter": "python",
   "pygments_lexer": "ipython3",
   "version": "3.9.13"
  }
 },
 "nbformat": 4,
 "nbformat_minor": 5
}
