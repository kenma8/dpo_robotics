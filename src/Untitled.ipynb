{
 "cells": [
  {
   "cell_type": "code",
   "execution_count": 1,
   "id": "8bd0aeb0-3754-49fa-be08-ea5ec94e0ad1",
   "metadata": {},
   "outputs": [],
   "source": [
    "import pickle"
   ]
  },
  {
   "cell_type": "code",
   "execution_count": 2,
   "id": "2c1c5805-dde6-4dde-9395-0d1dc90ee67a",
   "metadata": {},
   "outputs": [],
   "source": [
    "with open(f\"collect_human_preferences/preferences/humanoid_bc_vs_dpo_thomas_compare_w_reward.pkl\", \"rb\") as file:\n",
    "    data_1 = pickle.load(file)"
   ]
  },
  {
   "cell_type": "code",
   "execution_count": 3,
   "id": "53417531-321b-4935-a552-a685f77ff4e3",
   "metadata": {},
   "outputs": [],
   "source": [
    "with open(f\"collect_human_preferences/preferences/humanoid_bc_vs_dpo_thomas.pkl\", \"rb\") as file:\n",
    "    data_2 = pickle.load(file)"
   ]
  },
  {
   "cell_type": "code",
   "execution_count": 4,
   "id": "29031531-68ba-45d7-a534-5ccf939a828f",
   "metadata": {},
   "outputs": [],
   "source": [
    "with open(f\"collect_human_preferences/preferences/humanoid_bc_vs_dpo_thomas_same_start.pkl\", \"rb\") as file:\n",
    "    data_3 = pickle.load(file)"
   ]
  },
  {
   "cell_type": "code",
   "execution_count": 5,
   "id": "59f998a2-6274-47b4-9367-6d9d9f5ab692",
   "metadata": {},
   "outputs": [],
   "source": [
    "with open(f\"collect_human_preferences/preferences/humanoid_bc_vs_dpo_kenneth.pkl\", \"rb\") as file:\n",
    "    data_4 = pickle.load(file)"
   ]
  },
  {
   "cell_type": "code",
   "execution_count": 6,
   "id": "e1ebf3e0-69d0-4739-9bed-db146fe5d698",
   "metadata": {},
   "outputs": [],
   "source": [
    "with open(f\"collect_human_preferences/preferences/humanoid_bc_vs_dpo.pkl\", \"rb\") as file:\n",
    "    data_5 = pickle.load(file)"
   ]
  },
  {
   "cell_type": "code",
   "execution_count": 7,
   "id": "3d294be4-8676-4ef9-a37d-674f9e3ad907",
   "metadata": {},
   "outputs": [
    {
     "data": {
      "text/plain": [
       "170"
      ]
     },
     "execution_count": 7,
     "metadata": {},
     "output_type": "execute_result"
    }
   ],
   "source": [
    "len(data_1)"
   ]
  },
  {
   "cell_type": "code",
   "execution_count": 8,
   "id": "336c607b-1be8-455a-a53e-bb574e87f101",
   "metadata": {},
   "outputs": [
    {
     "data": {
      "text/plain": [
       "280"
      ]
     },
     "execution_count": 8,
     "metadata": {},
     "output_type": "execute_result"
    }
   ],
   "source": [
    "len(data_2)"
   ]
  },
  {
   "cell_type": "code",
   "execution_count": 9,
   "id": "0067bd96-5d4d-474f-957b-6ed24be1a2cd",
   "metadata": {},
   "outputs": [
    {
     "data": {
      "text/plain": [
       "50"
      ]
     },
     "execution_count": 9,
     "metadata": {},
     "output_type": "execute_result"
    }
   ],
   "source": [
    "len(data_3)"
   ]
  },
  {
   "cell_type": "code",
   "execution_count": 10,
   "id": "5edca369-b4d4-4be0-b171-b5c839263daa",
   "metadata": {},
   "outputs": [
    {
     "data": {
      "text/plain": [
       "250"
      ]
     },
     "execution_count": 10,
     "metadata": {},
     "output_type": "execute_result"
    }
   ],
   "source": [
    "len(data_4)"
   ]
  },
  {
   "cell_type": "code",
   "execution_count": 11,
   "id": "422fddd7-7d84-4cd9-a1e6-6051d0e18ef5",
   "metadata": {},
   "outputs": [
    {
     "data": {
      "text/plain": [
       "5"
      ]
     },
     "execution_count": 11,
     "metadata": {},
     "output_type": "execute_result"
    }
   ],
   "source": [
    "len(data_5)"
   ]
  },
  {
   "cell_type": "code",
   "execution_count": 13,
   "id": "8f60365d-8379-478f-92c3-28db5fb59bc1",
   "metadata": {},
   "outputs": [],
   "source": [
    "combined_data = data_1 + data_2 + data_3 + data_4 + data_5\n"
   ]
  },
  {
   "cell_type": "code",
   "execution_count": 14,
   "id": "c0ffe09b-8885-44a8-af9a-5f5fc61c0780",
   "metadata": {},
   "outputs": [
    {
     "data": {
      "text/plain": [
       "755"
      ]
     },
     "execution_count": 14,
     "metadata": {},
     "output_type": "execute_result"
    }
   ],
   "source": [
    "len(combined_data)"
   ]
  },
  {
   "cell_type": "code",
   "execution_count": null,
   "id": "60e7b565-ad1a-46fb-bea6-91804a0e47d8",
   "metadata": {},
   "outputs": [],
   "source": [
    "with open('array.pkl', 'wb') as f:\n",
    "    pickle.dump(array, f)"
   ]
  }
 ],
 "metadata": {
  "kernelspec": {
   "display_name": "Python 3 (ipykernel)",
   "language": "python",
   "name": "python3"
  },
  "language_info": {
   "codemirror_mode": {
    "name": "ipython",
    "version": 3
   },
   "file_extension": ".py",
   "mimetype": "text/x-python",
   "name": "python",
   "nbconvert_exporter": "python",
   "pygments_lexer": "ipython3",
   "version": "3.9.13"
  }
 },
 "nbformat": 4,
 "nbformat_minor": 5
}
